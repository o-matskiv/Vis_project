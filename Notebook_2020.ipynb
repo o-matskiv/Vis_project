{
 "cells": [
  {
   "cell_type": "code",
   "execution_count": 10,
   "id": "1eb33f58",
   "metadata": {},
   "outputs": [],
   "source": [
    "import pandas as pd"
   ]
  },
  {
   "cell_type": "code",
   "execution_count": 25,
   "id": "8dd1fd3f",
   "metadata": {},
   "outputs": [
    {
     "data": {
      "text/html": [
       "<div>\n",
       "<style scoped>\n",
       "    .dataframe tbody tr th:only-of-type {\n",
       "        vertical-align: middle;\n",
       "    }\n",
       "\n",
       "    .dataframe tbody tr th {\n",
       "        vertical-align: top;\n",
       "    }\n",
       "\n",
       "    .dataframe thead th {\n",
       "        text-align: right;\n",
       "    }\n",
       "</style>\n",
       "<table border=\"1\" class=\"dataframe\">\n",
       "  <thead>\n",
       "    <tr style=\"text-align: right;\">\n",
       "      <th></th>\n",
       "      <th>Event Date</th>\n",
       "      <th>date_death</th>\n",
       "      <th>name</th>\n",
       "      <th>age</th>\n",
       "      <th>sex</th>\n",
       "      <th>event</th>\n",
       "      <th>event_city</th>\n",
       "      <th>event_state</th>\n",
       "      <th>occupation</th>\n",
       "      <th>industry</th>\n",
       "      <th>...</th>\n",
       "      <th>Unnamed: 60</th>\n",
       "      <th>Unnamed: 61</th>\n",
       "      <th>Unnamed: 62</th>\n",
       "      <th>Unnamed: 63</th>\n",
       "      <th>Unnamed: 64</th>\n",
       "      <th>Unnamed: 65</th>\n",
       "      <th>Unnamed: 66</th>\n",
       "      <th>Unnamed: 67</th>\n",
       "      <th>Unnamed: 68</th>\n",
       "      <th>Unnamed: 69</th>\n",
       "    </tr>\n",
       "  </thead>\n",
       "  <tbody>\n",
       "    <tr>\n",
       "      <th>0</th>\n",
       "      <td>2020-08-13</td>\n",
       "      <td>NaN</td>\n",
       "      <td>Wallis, David</td>\n",
       "      <td>69.0</td>\n",
       "      <td>Male</td>\n",
       "      <td>The employee began to feel flu-like symptoms a...</td>\n",
       "      <td>FORT WAINWRIGHT</td>\n",
       "      <td>AK</td>\n",
       "      <td>Occupation Not Listed</td>\n",
       "      <td>NaN</td>\n",
       "      <td>...</td>\n",
       "      <td>1.0</td>\n",
       "      <td>0.0</td>\n",
       "      <td>1.0</td>\n",
       "      <td>0.0</td>\n",
       "      <td>251158</td>\n",
       "      <td>1488347</td>\n",
       "      <td>Other</td>\n",
       "      <td>Fatality-OSHA covered</td>\n",
       "      <td>NaN</td>\n",
       "      <td>N</td>\n",
       "    </tr>\n",
       "    <tr>\n",
       "      <th>1</th>\n",
       "      <td>2020-09-01</td>\n",
       "      <td>NaN</td>\n",
       "      <td>Rushing Jr., Jerry</td>\n",
       "      <td>54.0</td>\n",
       "      <td>Male</td>\n",
       "      <td>A high voltage source came in contact with the...</td>\n",
       "      <td>EIELSON AFB</td>\n",
       "      <td>AK</td>\n",
       "      <td>NaN</td>\n",
       "      <td>NaN</td>\n",
       "      <td>...</td>\n",
       "      <td>NaN</td>\n",
       "      <td>NaN</td>\n",
       "      <td>NaN</td>\n",
       "      <td>NaN</td>\n",
       "      <td>NaN</td>\n",
       "      <td>NaN</td>\n",
       "      <td>NaN</td>\n",
       "      <td>NaN</td>\n",
       "      <td>NaN</td>\n",
       "      <td>NaN</td>\n",
       "    </tr>\n",
       "    <tr>\n",
       "      <th>2</th>\n",
       "      <td>2020-11-02</td>\n",
       "      <td>NaN</td>\n",
       "      <td>Langen, Keith</td>\n",
       "      <td>52.0</td>\n",
       "      <td>Male</td>\n",
       "      <td>The transmission was hosted by a chain hoist a...</td>\n",
       "      <td>CRAIG</td>\n",
       "      <td>AK</td>\n",
       "      <td>NaN</td>\n",
       "      <td>NaN</td>\n",
       "      <td>...</td>\n",
       "      <td>NaN</td>\n",
       "      <td>NaN</td>\n",
       "      <td>NaN</td>\n",
       "      <td>NaN</td>\n",
       "      <td>NaN</td>\n",
       "      <td>NaN</td>\n",
       "      <td>NaN</td>\n",
       "      <td>NaN</td>\n",
       "      <td>NaN</td>\n",
       "      <td>NaN</td>\n",
       "    </tr>\n",
       "    <tr>\n",
       "      <th>3</th>\n",
       "      <td>2020-11-05</td>\n",
       "      <td>NaN</td>\n",
       "      <td>Hovermale, Phillip</td>\n",
       "      <td>21.0</td>\n",
       "      <td>Male</td>\n",
       "      <td>Victim found unresponsive after a Carbon Monox...</td>\n",
       "      <td>WASILLA</td>\n",
       "      <td>AK</td>\n",
       "      <td>NaN</td>\n",
       "      <td>NaN</td>\n",
       "      <td>...</td>\n",
       "      <td>NaN</td>\n",
       "      <td>NaN</td>\n",
       "      <td>NaN</td>\n",
       "      <td>NaN</td>\n",
       "      <td>NaN</td>\n",
       "      <td>NaN</td>\n",
       "      <td>NaN</td>\n",
       "      <td>NaN</td>\n",
       "      <td>NaN</td>\n",
       "      <td>NaN</td>\n",
       "    </tr>\n",
       "    <tr>\n",
       "      <th>4</th>\n",
       "      <td>2020-01-06</td>\n",
       "      <td>NaN</td>\n",
       "      <td>Brutley, Gabriel Seth</td>\n",
       "      <td>36.0</td>\n",
       "      <td>Male</td>\n",
       "      <td>The elevator system collapsed</td>\n",
       "      <td>GUNTERSVILLE</td>\n",
       "      <td>AL</td>\n",
       "      <td>FREIGHT, STOCK AND MATERIAL HANDLERS, N.E.C.</td>\n",
       "      <td>NaN</td>\n",
       "      <td>...</td>\n",
       "      <td>1.0</td>\n",
       "      <td>1.0</td>\n",
       "      <td>0.0</td>\n",
       "      <td>0.0</td>\n",
       "      <td>235582</td>\n",
       "      <td>1454000</td>\n",
       "      <td>Fall (from elevation)</td>\n",
       "      <td>Fatality-OSHA covered</td>\n",
       "      <td>NaN</td>\n",
       "      <td>N</td>\n",
       "    </tr>\n",
       "  </tbody>\n",
       "</table>\n",
       "<p>5 rows × 70 columns</p>\n",
       "</div>"
      ],
      "text/plain": [
       "  Event Date  date_death                  name    age   sex  \\\n",
       "0 2020-08-13         NaN          Wallis, David  69.0  Male   \n",
       "1 2020-09-01         NaN     Rushing Jr., Jerry  54.0  Male   \n",
       "2 2020-11-02         NaN          Langen, Keith  52.0  Male   \n",
       "3 2020-11-05         NaN     Hovermale, Phillip  21.0  Male   \n",
       "4 2020-01-06         NaN  Brutley, Gabriel Seth  36.0  Male   \n",
       "\n",
       "                                               event       event_city  \\\n",
       "0  The employee began to feel flu-like symptoms a...  FORT WAINWRIGHT   \n",
       "1  A high voltage source came in contact with the...      EIELSON AFB   \n",
       "2  The transmission was hosted by a chain hoist a...            CRAIG   \n",
       "3  Victim found unresponsive after a Carbon Monox...          WASILLA   \n",
       "4                      The elevator system collapsed     GUNTERSVILLE   \n",
       "\n",
       "  event_state                                    occupation  industry  ...  \\\n",
       "0          AK                         Occupation Not Listed       NaN  ...   \n",
       "1          AK                                           NaN       NaN  ...   \n",
       "2          AK                                           NaN       NaN  ...   \n",
       "3          AK                                           NaN       NaN  ...   \n",
       "4          AL  FREIGHT, STOCK AND MATERIAL HANDLERS, N.E.C.       NaN  ...   \n",
       "\n",
       "   Unnamed: 60  Unnamed: 61 Unnamed: 62  Unnamed: 63  Unnamed: 64  \\\n",
       "0          1.0          0.0         1.0          0.0       251158   \n",
       "1          NaN          NaN         NaN          NaN          NaN   \n",
       "2          NaN          NaN         NaN          NaN          NaN   \n",
       "3          NaN          NaN         NaN          NaN          NaN   \n",
       "4          1.0          1.0         0.0          0.0       235582   \n",
       "\n",
       "   Unnamed: 65            Unnamed: 66            Unnamed: 67  Unnamed: 68  \\\n",
       "0      1488347                  Other  Fatality-OSHA covered          NaN   \n",
       "1          NaN                    NaN                    NaN          NaN   \n",
       "2          NaN                    NaN                    NaN          NaN   \n",
       "3          NaN                    NaN                    NaN          NaN   \n",
       "4      1454000  Fall (from elevation)  Fatality-OSHA covered          NaN   \n",
       "\n",
       "   Unnamed: 69  \n",
       "0            N  \n",
       "1          NaN  \n",
       "2          NaN  \n",
       "3          NaN  \n",
       "4            N  \n",
       "\n",
       "[5 rows x 70 columns]"
      ]
     },
     "execution_count": 25,
     "metadata": {},
     "output_type": "execute_result"
    }
   ],
   "source": [
    "\n",
    "df = pd.read_excel (r'2020 Worker Fatalities.xlsx')\n",
    "df.head()"
   ]
  },
  {
   "cell_type": "code",
   "execution_count": null,
   "id": "491bf442",
   "metadata": {},
   "outputs": [],
   "source": [
    "Кількість смертей від вірусу COVID-19"
   ]
  },
  {
   "cell_type": "code",
   "execution_count": 3,
   "id": "5f5d676c",
   "metadata": {},
   "outputs": [
    {
     "data": {
      "text/plain": [
       "230"
      ]
     },
     "execution_count": 3,
     "metadata": {},
     "output_type": "execute_result"
    }
   ],
   "source": [
    "len(df[df['exposure'] == 'COVID-19'])"
   ]
  },
  {
   "cell_type": "code",
   "execution_count": 4,
   "id": "e361480b",
   "metadata": {},
   "outputs": [
    {
     "data": {
      "text/plain": [
       "28"
      ]
     },
     "execution_count": 4,
     "metadata": {},
     "output_type": "execute_result"
    }
   ],
   "source": [
    "len(df[df['exposure'] == 'COVID-19.'])"
   ]
  },
  {
   "cell_type": "code",
   "execution_count": 5,
   "id": "5ff91f2f",
   "metadata": {},
   "outputs": [
    {
     "data": {
      "text/plain": [
       "18"
      ]
     },
     "execution_count": 5,
     "metadata": {},
     "output_type": "execute_result"
    }
   ],
   "source": [
    "len(df[df['exposure'] == 'COVID-19 virus'])"
   ]
  },
  {
   "cell_type": "code",
   "execution_count": 6,
   "id": "9bc09ac8",
   "metadata": {},
   "outputs": [
    {
     "data": {
      "text/plain": [
       "2"
      ]
     },
     "execution_count": 6,
     "metadata": {},
     "output_type": "execute_result"
    }
   ],
   "source": [
    "len(df[df['exposure'] == 'Covid 19 illness'])"
   ]
  },
  {
   "cell_type": "code",
   "execution_count": 7,
   "id": "86b1d8de",
   "metadata": {},
   "outputs": [
    {
     "data": {
      "text/plain": [
       "8"
      ]
     },
     "execution_count": 7,
     "metadata": {},
     "output_type": "execute_result"
    }
   ],
   "source": [
    "len(df[df['exposure'] == 'Covid 19'])"
   ]
  },
  {
   "cell_type": "code",
   "execution_count": 27,
   "id": "02d55dd5",
   "metadata": {},
   "outputs": [
    {
     "data": {
      "text/plain": [
       "3"
      ]
     },
     "execution_count": 27,
     "metadata": {},
     "output_type": "execute_result"
    }
   ],
   "source": [
    "len(df[df['exposure'] == 'Possible COVID-19'])"
   ]
  },
  {
   "cell_type": "code",
   "execution_count": 8,
   "id": "47090358",
   "metadata": {},
   "outputs": [
    {
     "data": {
      "text/plain": [
       "11"
      ]
     },
     "execution_count": 8,
     "metadata": {},
     "output_type": "execute_result"
    }
   ],
   "source": [
    "len(df[df['exposure'] == 'SARS-CoV-2 virus'])"
   ]
  },
  {
   "cell_type": "markdown",
   "id": "751e820d",
   "metadata": {},
   "source": [
    "# Загальна кількість смертей"
   ]
  },
  {
   "cell_type": "code",
   "execution_count": 9,
   "id": "846f306f",
   "metadata": {},
   "outputs": [
    {
     "data": {
      "text/plain": [
       "3036"
      ]
     },
     "execution_count": 9,
     "metadata": {},
     "output_type": "execute_result"
    }
   ],
   "source": [
    "len(df)"
   ]
  },
  {
   "cell_type": "markdown",
   "id": "3382f3c8",
   "metadata": {},
   "source": [
    "# Графік кількості смертей протягом 2020 року"
   ]
  },
  {
   "cell_type": "code",
   "execution_count": 14,
   "id": "00c56cca",
   "metadata": {},
   "outputs": [],
   "source": [
    "df1 = df.copy(deep=False)\n",
    "df1['Event Date'] = pd.to_datetime(df1['Event Date'])"
   ]
  },
  {
   "cell_type": "code",
   "execution_count": 15,
   "id": "bb365053",
   "metadata": {},
   "outputs": [
    {
     "data": {
      "text/html": [
       "<div>\n",
       "<style scoped>\n",
       "    .dataframe tbody tr th:only-of-type {\n",
       "        vertical-align: middle;\n",
       "    }\n",
       "\n",
       "    .dataframe tbody tr th {\n",
       "        vertical-align: top;\n",
       "    }\n",
       "\n",
       "    .dataframe thead th {\n",
       "        text-align: right;\n",
       "    }\n",
       "</style>\n",
       "<table border=\"1\" class=\"dataframe\">\n",
       "  <thead>\n",
       "    <tr style=\"text-align: right;\">\n",
       "      <th></th>\n",
       "      <th>Event Date</th>\n",
       "      <th>date_death</th>\n",
       "      <th>name</th>\n",
       "      <th>age</th>\n",
       "      <th>sex</th>\n",
       "      <th>event</th>\n",
       "      <th>event_city</th>\n",
       "      <th>event_state</th>\n",
       "      <th>occupation</th>\n",
       "      <th>industry</th>\n",
       "      <th>...</th>\n",
       "      <th>Unnamed: 60</th>\n",
       "      <th>Unnamed: 61</th>\n",
       "      <th>Unnamed: 62</th>\n",
       "      <th>Unnamed: 63</th>\n",
       "      <th>Unnamed: 64</th>\n",
       "      <th>Unnamed: 65</th>\n",
       "      <th>Unnamed: 66</th>\n",
       "      <th>Unnamed: 67</th>\n",
       "      <th>Unnamed: 68</th>\n",
       "      <th>Unnamed: 69</th>\n",
       "    </tr>\n",
       "  </thead>\n",
       "  <tbody>\n",
       "    <tr>\n",
       "      <th>0</th>\n",
       "      <td>2020-08-13</td>\n",
       "      <td>NaN</td>\n",
       "      <td>Wallis, David</td>\n",
       "      <td>69.0</td>\n",
       "      <td>Male</td>\n",
       "      <td>The employee began to feel flu-like symptoms a...</td>\n",
       "      <td>FORT WAINWRIGHT</td>\n",
       "      <td>AK</td>\n",
       "      <td>Occupation Not Listed</td>\n",
       "      <td>NaN</td>\n",
       "      <td>...</td>\n",
       "      <td>1.0</td>\n",
       "      <td>0.0</td>\n",
       "      <td>1.0</td>\n",
       "      <td>0.0</td>\n",
       "      <td>251158</td>\n",
       "      <td>1488347</td>\n",
       "      <td>Other</td>\n",
       "      <td>Fatality-OSHA covered</td>\n",
       "      <td>NaN</td>\n",
       "      <td>N</td>\n",
       "    </tr>\n",
       "    <tr>\n",
       "      <th>1</th>\n",
       "      <td>2020-09-01</td>\n",
       "      <td>NaN</td>\n",
       "      <td>Rushing Jr., Jerry</td>\n",
       "      <td>54.0</td>\n",
       "      <td>Male</td>\n",
       "      <td>A high voltage source came in contact with the...</td>\n",
       "      <td>EIELSON AFB</td>\n",
       "      <td>AK</td>\n",
       "      <td>NaN</td>\n",
       "      <td>NaN</td>\n",
       "      <td>...</td>\n",
       "      <td>NaN</td>\n",
       "      <td>NaN</td>\n",
       "      <td>NaN</td>\n",
       "      <td>NaN</td>\n",
       "      <td>NaN</td>\n",
       "      <td>NaN</td>\n",
       "      <td>NaN</td>\n",
       "      <td>NaN</td>\n",
       "      <td>NaN</td>\n",
       "      <td>NaN</td>\n",
       "    </tr>\n",
       "    <tr>\n",
       "      <th>2</th>\n",
       "      <td>2020-11-02</td>\n",
       "      <td>NaN</td>\n",
       "      <td>Langen, Keith</td>\n",
       "      <td>52.0</td>\n",
       "      <td>Male</td>\n",
       "      <td>The transmission was hosted by a chain hoist a...</td>\n",
       "      <td>CRAIG</td>\n",
       "      <td>AK</td>\n",
       "      <td>NaN</td>\n",
       "      <td>NaN</td>\n",
       "      <td>...</td>\n",
       "      <td>NaN</td>\n",
       "      <td>NaN</td>\n",
       "      <td>NaN</td>\n",
       "      <td>NaN</td>\n",
       "      <td>NaN</td>\n",
       "      <td>NaN</td>\n",
       "      <td>NaN</td>\n",
       "      <td>NaN</td>\n",
       "      <td>NaN</td>\n",
       "      <td>NaN</td>\n",
       "    </tr>\n",
       "    <tr>\n",
       "      <th>3</th>\n",
       "      <td>2020-11-05</td>\n",
       "      <td>NaN</td>\n",
       "      <td>Hovermale, Phillip</td>\n",
       "      <td>21.0</td>\n",
       "      <td>Male</td>\n",
       "      <td>Victim found unresponsive after a Carbon Monox...</td>\n",
       "      <td>WASILLA</td>\n",
       "      <td>AK</td>\n",
       "      <td>NaN</td>\n",
       "      <td>NaN</td>\n",
       "      <td>...</td>\n",
       "      <td>NaN</td>\n",
       "      <td>NaN</td>\n",
       "      <td>NaN</td>\n",
       "      <td>NaN</td>\n",
       "      <td>NaN</td>\n",
       "      <td>NaN</td>\n",
       "      <td>NaN</td>\n",
       "      <td>NaN</td>\n",
       "      <td>NaN</td>\n",
       "      <td>NaN</td>\n",
       "    </tr>\n",
       "    <tr>\n",
       "      <th>4</th>\n",
       "      <td>2020-01-06</td>\n",
       "      <td>NaN</td>\n",
       "      <td>Brutley, Gabriel Seth</td>\n",
       "      <td>36.0</td>\n",
       "      <td>Male</td>\n",
       "      <td>The elevator system collapsed</td>\n",
       "      <td>GUNTERSVILLE</td>\n",
       "      <td>AL</td>\n",
       "      <td>FREIGHT, STOCK AND MATERIAL HANDLERS, N.E.C.</td>\n",
       "      <td>NaN</td>\n",
       "      <td>...</td>\n",
       "      <td>1.0</td>\n",
       "      <td>1.0</td>\n",
       "      <td>0.0</td>\n",
       "      <td>0.0</td>\n",
       "      <td>235582</td>\n",
       "      <td>1454000</td>\n",
       "      <td>Fall (from elevation)</td>\n",
       "      <td>Fatality-OSHA covered</td>\n",
       "      <td>NaN</td>\n",
       "      <td>N</td>\n",
       "    </tr>\n",
       "  </tbody>\n",
       "</table>\n",
       "<p>5 rows × 70 columns</p>\n",
       "</div>"
      ],
      "text/plain": [
       "  Event Date  date_death                  name    age   sex  \\\n",
       "0 2020-08-13         NaN          Wallis, David  69.0  Male   \n",
       "1 2020-09-01         NaN     Rushing Jr., Jerry  54.0  Male   \n",
       "2 2020-11-02         NaN          Langen, Keith  52.0  Male   \n",
       "3 2020-11-05         NaN     Hovermale, Phillip  21.0  Male   \n",
       "4 2020-01-06         NaN  Brutley, Gabriel Seth  36.0  Male   \n",
       "\n",
       "                                               event       event_city  \\\n",
       "0  The employee began to feel flu-like symptoms a...  FORT WAINWRIGHT   \n",
       "1  A high voltage source came in contact with the...      EIELSON AFB   \n",
       "2  The transmission was hosted by a chain hoist a...            CRAIG   \n",
       "3  Victim found unresponsive after a Carbon Monox...          WASILLA   \n",
       "4                      The elevator system collapsed     GUNTERSVILLE   \n",
       "\n",
       "  event_state                                    occupation  industry  ...  \\\n",
       "0          AK                         Occupation Not Listed       NaN  ...   \n",
       "1          AK                                           NaN       NaN  ...   \n",
       "2          AK                                           NaN       NaN  ...   \n",
       "3          AK                                           NaN       NaN  ...   \n",
       "4          AL  FREIGHT, STOCK AND MATERIAL HANDLERS, N.E.C.       NaN  ...   \n",
       "\n",
       "   Unnamed: 60  Unnamed: 61 Unnamed: 62  Unnamed: 63  Unnamed: 64  \\\n",
       "0          1.0          0.0         1.0          0.0       251158   \n",
       "1          NaN          NaN         NaN          NaN          NaN   \n",
       "2          NaN          NaN         NaN          NaN          NaN   \n",
       "3          NaN          NaN         NaN          NaN          NaN   \n",
       "4          1.0          1.0         0.0          0.0       235582   \n",
       "\n",
       "   Unnamed: 65            Unnamed: 66            Unnamed: 67  Unnamed: 68  \\\n",
       "0      1488347                  Other  Fatality-OSHA covered          NaN   \n",
       "1          NaN                    NaN                    NaN          NaN   \n",
       "2          NaN                    NaN                    NaN          NaN   \n",
       "3          NaN                    NaN                    NaN          NaN   \n",
       "4      1454000  Fall (from elevation)  Fatality-OSHA covered          NaN   \n",
       "\n",
       "   Unnamed: 69  \n",
       "0            N  \n",
       "1          NaN  \n",
       "2          NaN  \n",
       "3          NaN  \n",
       "4            N  \n",
       "\n",
       "[5 rows x 70 columns]"
      ]
     },
     "execution_count": 15,
     "metadata": {},
     "output_type": "execute_result"
    }
   ],
   "source": [
    "df1.head()"
   ]
  },
  {
   "cell_type": "code",
   "execution_count": 18,
   "id": "d6873a1d",
   "metadata": {},
   "outputs": [
    {
     "data": {
      "text/html": [
       "<div>\n",
       "<style scoped>\n",
       "    .dataframe tbody tr th:only-of-type {\n",
       "        vertical-align: middle;\n",
       "    }\n",
       "\n",
       "    .dataframe tbody tr th {\n",
       "        vertical-align: top;\n",
       "    }\n",
       "\n",
       "    .dataframe thead th {\n",
       "        text-align: right;\n",
       "    }\n",
       "</style>\n",
       "<table border=\"1\" class=\"dataframe\">\n",
       "  <thead>\n",
       "    <tr style=\"text-align: right;\">\n",
       "      <th></th>\n",
       "      <th>Event Date</th>\n",
       "      <th>Total</th>\n",
       "    </tr>\n",
       "  </thead>\n",
       "  <tbody>\n",
       "    <tr>\n",
       "      <th>0</th>\n",
       "      <td>2020-01-01</td>\n",
       "      <td>3</td>\n",
       "    </tr>\n",
       "    <tr>\n",
       "      <th>1</th>\n",
       "      <td>2020-01-02</td>\n",
       "      <td>1</td>\n",
       "    </tr>\n",
       "    <tr>\n",
       "      <th>2</th>\n",
       "      <td>2020-01-03</td>\n",
       "      <td>1</td>\n",
       "    </tr>\n",
       "    <tr>\n",
       "      <th>3</th>\n",
       "      <td>2020-01-04</td>\n",
       "      <td>2</td>\n",
       "    </tr>\n",
       "    <tr>\n",
       "      <th>4</th>\n",
       "      <td>2020-01-05</td>\n",
       "      <td>1</td>\n",
       "    </tr>\n",
       "  </tbody>\n",
       "</table>\n",
       "</div>"
      ],
      "text/plain": [
       "  Event Date  Total\n",
       "0 2020-01-01      3\n",
       "1 2020-01-02      1\n",
       "2 2020-01-03      1\n",
       "3 2020-01-04      2\n",
       "4 2020-01-05      1"
      ]
     },
     "execution_count": 18,
     "metadata": {},
     "output_type": "execute_result"
    }
   ],
   "source": [
    "df_date1 = df1.groupby('Event Date').size().reset_index()\n",
    "df_date1.columns = [*df_date1.columns[:-1], 'Total']\n",
    "\n",
    "df_date1.head()\n"
   ]
  },
  {
   "cell_type": "code",
   "execution_count": 21,
   "id": "b06d53ca",
   "metadata": {},
   "outputs": [
    {
     "data": {
      "text/html": [
       "\n",
       "<div id=\"altair-viz-0857c49553a7460e80145acf8d9222f4\"></div>\n",
       "<script type=\"text/javascript\">\n",
       "  (function(spec, embedOpt){\n",
       "    let outputDiv = document.currentScript.previousElementSibling;\n",
       "    if (outputDiv.id !== \"altair-viz-0857c49553a7460e80145acf8d9222f4\") {\n",
       "      outputDiv = document.getElementById(\"altair-viz-0857c49553a7460e80145acf8d9222f4\");\n",
       "    }\n",
       "    const paths = {\n",
       "      \"vega\": \"https://cdn.jsdelivr.net/npm//vega@5?noext\",\n",
       "      \"vega-lib\": \"https://cdn.jsdelivr.net/npm//vega-lib?noext\",\n",
       "      \"vega-lite\": \"https://cdn.jsdelivr.net/npm//vega-lite@4.8.1?noext\",\n",
       "      \"vega-embed\": \"https://cdn.jsdelivr.net/npm//vega-embed@6?noext\",\n",
       "    };\n",
       "\n",
       "    function loadScript(lib) {\n",
       "      return new Promise(function(resolve, reject) {\n",
       "        var s = document.createElement('script');\n",
       "        s.src = paths[lib];\n",
       "        s.async = true;\n",
       "        s.onload = () => resolve(paths[lib]);\n",
       "        s.onerror = () => reject(`Error loading script: ${paths[lib]}`);\n",
       "        document.getElementsByTagName(\"head\")[0].appendChild(s);\n",
       "      });\n",
       "    }\n",
       "\n",
       "    function showError(err) {\n",
       "      outputDiv.innerHTML = `<div class=\"error\" style=\"color:red;\">${err}</div>`;\n",
       "      throw err;\n",
       "    }\n",
       "\n",
       "    function displayChart(vegaEmbed) {\n",
       "      vegaEmbed(outputDiv, spec, embedOpt)\n",
       "        .catch(err => showError(`Javascript Error: ${err.message}<br>This usually means there's a typo in your chart specification. See the javascript console for the full traceback.`));\n",
       "    }\n",
       "\n",
       "    if(typeof define === \"function\" && define.amd) {\n",
       "      requirejs.config({paths});\n",
       "      require([\"vega-embed\"], displayChart, err => showError(`Error loading script: ${err.message}`));\n",
       "    } else if (typeof vegaEmbed === \"function\") {\n",
       "      displayChart(vegaEmbed);\n",
       "    } else {\n",
       "      loadScript(\"vega\")\n",
       "        .then(() => loadScript(\"vega-lite\"))\n",
       "        .then(() => loadScript(\"vega-embed\"))\n",
       "        .catch(showError)\n",
       "        .then(() => displayChart(vegaEmbed));\n",
       "    }\n",
       "  })({\"config\": {\"view\": {\"continuousWidth\": 400, \"continuousHeight\": 300}}, \"data\": {\"name\": \"data-2a4ce74247ad6c8fa2ff4ce81fe1c075\"}, \"mark\": \"bar\", \"encoding\": {\"x\": {\"type\": \"temporal\", \"field\": \"Event Date\"}, \"y\": {\"type\": \"quantitative\", \"field\": \"Total\"}}, \"$schema\": \"https://vega.github.io/schema/vega-lite/v4.8.1.json\", \"datasets\": {\"data-2a4ce74247ad6c8fa2ff4ce81fe1c075\": [{\"Event Date\": \"2020-01-01T00:00:00\", \"Total\": 3}, {\"Event Date\": \"2020-01-02T00:00:00\", \"Total\": 1}, {\"Event Date\": \"2020-01-03T00:00:00\", \"Total\": 1}, {\"Event Date\": \"2020-01-04T00:00:00\", \"Total\": 2}, {\"Event Date\": \"2020-01-05T00:00:00\", \"Total\": 1}, {\"Event Date\": \"2020-01-06T00:00:00\", \"Total\": 5}, {\"Event Date\": \"2020-01-07T00:00:00\", \"Total\": 1}, {\"Event Date\": \"2020-01-08T00:00:00\", \"Total\": 7}, {\"Event Date\": \"2020-01-09T00:00:00\", \"Total\": 5}, {\"Event Date\": \"2020-01-10T00:00:00\", \"Total\": 4}, {\"Event Date\": \"2020-01-11T00:00:00\", \"Total\": 3}, {\"Event Date\": \"2020-01-12T00:00:00\", \"Total\": 2}, {\"Event Date\": \"2020-01-13T00:00:00\", \"Total\": 3}, {\"Event Date\": \"2020-01-14T00:00:00\", \"Total\": 5}, {\"Event Date\": \"2020-01-15T00:00:00\", \"Total\": 5}, {\"Event Date\": \"2020-01-16T00:00:00\", \"Total\": 4}, {\"Event Date\": \"2020-01-17T00:00:00\", \"Total\": 5}, {\"Event Date\": \"2020-01-18T00:00:00\", \"Total\": 3}, {\"Event Date\": \"2020-01-19T00:00:00\", \"Total\": 1}, {\"Event Date\": \"2020-01-20T00:00:00\", \"Total\": 6}, {\"Event Date\": \"2020-01-21T00:00:00\", \"Total\": 5}, {\"Event Date\": \"2020-01-22T00:00:00\", \"Total\": 3}, {\"Event Date\": \"2020-01-23T00:00:00\", \"Total\": 7}, {\"Event Date\": \"2020-01-24T00:00:00\", \"Total\": 4}, {\"Event Date\": \"2020-01-25T00:00:00\", \"Total\": 2}, {\"Event Date\": \"2020-01-26T00:00:00\", \"Total\": 1}, {\"Event Date\": \"2020-01-27T00:00:00\", \"Total\": 7}, {\"Event Date\": \"2020-01-28T00:00:00\", \"Total\": 9}, {\"Event Date\": \"2020-01-29T00:00:00\", \"Total\": 4}, {\"Event Date\": \"2020-01-30T00:00:00\", \"Total\": 6}, {\"Event Date\": \"2020-01-31T00:00:00\", \"Total\": 3}, {\"Event Date\": \"2020-02-01T00:00:00\", \"Total\": 1}, {\"Event Date\": \"2020-02-02T00:00:00\", \"Total\": 1}, {\"Event Date\": \"2020-02-03T00:00:00\", \"Total\": 3}, {\"Event Date\": \"2020-02-04T00:00:00\", \"Total\": 8}, {\"Event Date\": \"2020-02-05T00:00:00\", \"Total\": 4}, {\"Event Date\": \"2020-02-06T00:00:00\", \"Total\": 5}, {\"Event Date\": \"2020-02-07T00:00:00\", \"Total\": 3}, {\"Event Date\": \"2020-02-08T00:00:00\", \"Total\": 1}, {\"Event Date\": \"2020-02-09T00:00:00\", \"Total\": 2}, {\"Event Date\": \"2020-02-10T00:00:00\", \"Total\": 3}, {\"Event Date\": \"2020-02-11T00:00:00\", \"Total\": 5}, {\"Event Date\": \"2020-02-12T00:00:00\", \"Total\": 5}, {\"Event Date\": \"2020-02-13T00:00:00\", \"Total\": 7}, {\"Event Date\": \"2020-02-14T00:00:00\", \"Total\": 3}, {\"Event Date\": \"2020-02-15T00:00:00\", \"Total\": 2}, {\"Event Date\": \"2020-02-16T00:00:00\", \"Total\": 1}, {\"Event Date\": \"2020-02-17T00:00:00\", \"Total\": 5}, {\"Event Date\": \"2020-02-18T00:00:00\", \"Total\": 8}, {\"Event Date\": \"2020-02-19T00:00:00\", \"Total\": 2}, {\"Event Date\": \"2020-02-20T00:00:00\", \"Total\": 5}, {\"Event Date\": \"2020-02-21T00:00:00\", \"Total\": 2}, {\"Event Date\": \"2020-02-22T00:00:00\", \"Total\": 6}, {\"Event Date\": \"2020-02-24T00:00:00\", \"Total\": 2}, {\"Event Date\": \"2020-02-25T00:00:00\", \"Total\": 3}, {\"Event Date\": \"2020-02-26T00:00:00\", \"Total\": 2}, {\"Event Date\": \"2020-02-27T00:00:00\", \"Total\": 11}, {\"Event Date\": \"2020-02-28T00:00:00\", \"Total\": 6}, {\"Event Date\": \"2020-02-29T00:00:00\", \"Total\": 1}, {\"Event Date\": \"2020-03-01T00:00:00\", \"Total\": 2}, {\"Event Date\": \"2020-03-02T00:00:00\", \"Total\": 2}, {\"Event Date\": \"2020-03-03T00:00:00\", \"Total\": 4}, {\"Event Date\": \"2020-03-04T00:00:00\", \"Total\": 12}, {\"Event Date\": \"2020-03-05T00:00:00\", \"Total\": 6}, {\"Event Date\": \"2020-03-06T00:00:00\", \"Total\": 4}, {\"Event Date\": \"2020-03-07T00:00:00\", \"Total\": 1}, {\"Event Date\": \"2020-03-08T00:00:00\", \"Total\": 2}, {\"Event Date\": \"2020-03-09T00:00:00\", \"Total\": 2}, {\"Event Date\": \"2020-03-10T00:00:00\", \"Total\": 7}, {\"Event Date\": \"2020-03-11T00:00:00\", \"Total\": 4}, {\"Event Date\": \"2020-03-12T00:00:00\", \"Total\": 6}, {\"Event Date\": \"2020-03-13T00:00:00\", \"Total\": 7}, {\"Event Date\": \"2020-03-15T00:00:00\", \"Total\": 1}, {\"Event Date\": \"2020-03-16T00:00:00\", \"Total\": 11}, {\"Event Date\": \"2020-03-17T00:00:00\", \"Total\": 9}, {\"Event Date\": \"2020-03-18T00:00:00\", \"Total\": 10}, {\"Event Date\": \"2020-03-19T00:00:00\", \"Total\": 7}, {\"Event Date\": \"2020-03-20T00:00:00\", \"Total\": 7}, {\"Event Date\": \"2020-03-21T00:00:00\", \"Total\": 5}, {\"Event Date\": \"2020-03-22T00:00:00\", \"Total\": 1}, {\"Event Date\": \"2020-03-23T00:00:00\", \"Total\": 10}, {\"Event Date\": \"2020-03-24T00:00:00\", \"Total\": 9}, {\"Event Date\": \"2020-03-25T00:00:00\", \"Total\": 6}, {\"Event Date\": \"2020-03-26T00:00:00\", \"Total\": 6}, {\"Event Date\": \"2020-03-27T00:00:00\", \"Total\": 12}, {\"Event Date\": \"2020-03-28T00:00:00\", \"Total\": 4}, {\"Event Date\": \"2020-03-29T00:00:00\", \"Total\": 11}, {\"Event Date\": \"2020-03-30T00:00:00\", \"Total\": 16}, {\"Event Date\": \"2020-03-31T00:00:00\", \"Total\": 15}, {\"Event Date\": \"2020-04-01T00:00:00\", \"Total\": 16}, {\"Event Date\": \"2020-04-02T00:00:00\", \"Total\": 16}, {\"Event Date\": \"2020-04-03T00:00:00\", \"Total\": 14}, {\"Event Date\": \"2020-04-04T00:00:00\", \"Total\": 18}, {\"Event Date\": \"2020-04-05T00:00:00\", \"Total\": 18}, {\"Event Date\": \"2020-04-06T00:00:00\", \"Total\": 20}, {\"Event Date\": \"2020-04-07T00:00:00\", \"Total\": 24}, {\"Event Date\": \"2020-04-08T00:00:00\", \"Total\": 17}, {\"Event Date\": \"2020-04-09T00:00:00\", \"Total\": 17}, {\"Event Date\": \"2020-04-10T00:00:00\", \"Total\": 16}, {\"Event Date\": \"2020-04-11T00:00:00\", \"Total\": 16}, {\"Event Date\": \"2020-04-12T00:00:00\", \"Total\": 19}, {\"Event Date\": \"2020-04-13T00:00:00\", \"Total\": 31}, {\"Event Date\": \"2020-04-14T00:00:00\", \"Total\": 12}, {\"Event Date\": \"2020-04-15T00:00:00\", \"Total\": 20}, {\"Event Date\": \"2020-04-16T00:00:00\", \"Total\": 21}, {\"Event Date\": \"2020-04-17T00:00:00\", \"Total\": 28}, {\"Event Date\": \"2020-04-18T00:00:00\", \"Total\": 21}, {\"Event Date\": \"2020-04-19T00:00:00\", \"Total\": 10}, {\"Event Date\": \"2020-04-20T00:00:00\", \"Total\": 13}, {\"Event Date\": \"2020-04-21T00:00:00\", \"Total\": 9}, {\"Event Date\": \"2020-04-22T00:00:00\", \"Total\": 18}, {\"Event Date\": \"2020-04-23T00:00:00\", \"Total\": 16}, {\"Event Date\": \"2020-04-24T00:00:00\", \"Total\": 18}, {\"Event Date\": \"2020-04-25T00:00:00\", \"Total\": 10}, {\"Event Date\": \"2020-04-26T00:00:00\", \"Total\": 10}, {\"Event Date\": \"2020-04-27T00:00:00\", \"Total\": 20}, {\"Event Date\": \"2020-04-28T00:00:00\", \"Total\": 11}, {\"Event Date\": \"2020-04-29T00:00:00\", \"Total\": 10}, {\"Event Date\": \"2020-04-30T00:00:00\", \"Total\": 20}, {\"Event Date\": \"2020-05-01T00:00:00\", \"Total\": 12}, {\"Event Date\": \"2020-05-02T00:00:00\", \"Total\": 13}, {\"Event Date\": \"2020-05-03T00:00:00\", \"Total\": 13}, {\"Event Date\": \"2020-05-04T00:00:00\", \"Total\": 15}, {\"Event Date\": \"2020-05-05T00:00:00\", \"Total\": 12}, {\"Event Date\": \"2020-05-06T00:00:00\", \"Total\": 12}, {\"Event Date\": \"2020-05-07T00:00:00\", \"Total\": 15}, {\"Event Date\": \"2020-05-08T00:00:00\", \"Total\": 11}, {\"Event Date\": \"2020-05-09T00:00:00\", \"Total\": 9}, {\"Event Date\": \"2020-05-10T00:00:00\", \"Total\": 15}, {\"Event Date\": \"2020-05-11T00:00:00\", \"Total\": 11}, {\"Event Date\": \"2020-05-12T00:00:00\", \"Total\": 14}, {\"Event Date\": \"2020-05-13T00:00:00\", \"Total\": 10}, {\"Event Date\": \"2020-05-14T00:00:00\", \"Total\": 20}, {\"Event Date\": \"2020-05-15T00:00:00\", \"Total\": 16}, {\"Event Date\": \"2020-05-16T00:00:00\", \"Total\": 7}, {\"Event Date\": \"2020-05-17T00:00:00\", \"Total\": 5}, {\"Event Date\": \"2020-05-18T00:00:00\", \"Total\": 8}, {\"Event Date\": \"2020-05-19T00:00:00\", \"Total\": 26}, {\"Event Date\": \"2020-05-20T00:00:00\", \"Total\": 14}, {\"Event Date\": \"2020-05-21T00:00:00\", \"Total\": 11}, {\"Event Date\": \"2020-05-22T00:00:00\", \"Total\": 13}, {\"Event Date\": \"2020-05-23T00:00:00\", \"Total\": 5}, {\"Event Date\": \"2020-05-24T00:00:00\", \"Total\": 7}, {\"Event Date\": \"2020-05-25T00:00:00\", \"Total\": 5}, {\"Event Date\": \"2020-05-26T00:00:00\", \"Total\": 11}, {\"Event Date\": \"2020-05-27T00:00:00\", \"Total\": 16}, {\"Event Date\": \"2020-05-28T00:00:00\", \"Total\": 11}, {\"Event Date\": \"2020-05-29T00:00:00\", \"Total\": 16}, {\"Event Date\": \"2020-05-30T00:00:00\", \"Total\": 8}, {\"Event Date\": \"2020-05-31T00:00:00\", \"Total\": 7}, {\"Event Date\": \"2020-06-01T00:00:00\", \"Total\": 14}, {\"Event Date\": \"2020-06-02T00:00:00\", \"Total\": 6}, {\"Event Date\": \"2020-06-03T00:00:00\", \"Total\": 11}, {\"Event Date\": \"2020-06-04T00:00:00\", \"Total\": 10}, {\"Event Date\": \"2020-06-05T00:00:00\", \"Total\": 8}, {\"Event Date\": \"2020-06-06T00:00:00\", \"Total\": 5}, {\"Event Date\": \"2020-06-07T00:00:00\", \"Total\": 8}, {\"Event Date\": \"2020-06-08T00:00:00\", \"Total\": 17}, {\"Event Date\": \"2020-06-09T00:00:00\", \"Total\": 11}, {\"Event Date\": \"2020-06-10T00:00:00\", \"Total\": 7}, {\"Event Date\": \"2020-06-11T00:00:00\", \"Total\": 15}, {\"Event Date\": \"2020-06-12T00:00:00\", \"Total\": 13}, {\"Event Date\": \"2020-06-13T00:00:00\", \"Total\": 1}, {\"Event Date\": \"2020-06-14T00:00:00\", \"Total\": 5}, {\"Event Date\": \"2020-06-15T00:00:00\", \"Total\": 10}, {\"Event Date\": \"2020-06-16T00:00:00\", \"Total\": 10}, {\"Event Date\": \"2020-06-17T00:00:00\", \"Total\": 6}, {\"Event Date\": \"2020-06-18T00:00:00\", \"Total\": 10}, {\"Event Date\": \"2020-06-19T00:00:00\", \"Total\": 10}, {\"Event Date\": \"2020-06-20T00:00:00\", \"Total\": 5}, {\"Event Date\": \"2020-06-22T00:00:00\", \"Total\": 9}, {\"Event Date\": \"2020-06-23T00:00:00\", \"Total\": 12}, {\"Event Date\": \"2020-06-24T00:00:00\", \"Total\": 14}, {\"Event Date\": \"2020-06-25T00:00:00\", \"Total\": 12}, {\"Event Date\": \"2020-06-26T00:00:00\", \"Total\": 12}, {\"Event Date\": \"2020-06-27T00:00:00\", \"Total\": 2}, {\"Event Date\": \"2020-06-28T00:00:00\", \"Total\": 5}, {\"Event Date\": \"2020-06-29T00:00:00\", \"Total\": 9}, {\"Event Date\": \"2020-06-30T00:00:00\", \"Total\": 11}, {\"Event Date\": \"2020-07-01T00:00:00\", \"Total\": 10}, {\"Event Date\": \"2020-07-02T00:00:00\", \"Total\": 8}, {\"Event Date\": \"2020-07-03T00:00:00\", \"Total\": 11}, {\"Event Date\": \"2020-07-04T00:00:00\", \"Total\": 3}, {\"Event Date\": \"2020-07-05T00:00:00\", \"Total\": 2}, {\"Event Date\": \"2020-07-06T00:00:00\", \"Total\": 12}, {\"Event Date\": \"2020-07-07T00:00:00\", \"Total\": 16}, {\"Event Date\": \"2020-07-08T00:00:00\", \"Total\": 10}, {\"Event Date\": \"2020-07-09T00:00:00\", \"Total\": 11}, {\"Event Date\": \"2020-07-10T00:00:00\", \"Total\": 6}, {\"Event Date\": \"2020-07-11T00:00:00\", \"Total\": 4}, {\"Event Date\": \"2020-07-12T00:00:00\", \"Total\": 8}, {\"Event Date\": \"2020-07-13T00:00:00\", \"Total\": 11}, {\"Event Date\": \"2020-07-14T00:00:00\", \"Total\": 4}, {\"Event Date\": \"2020-07-15T00:00:00\", \"Total\": 11}, {\"Event Date\": \"2020-07-16T00:00:00\", \"Total\": 8}, {\"Event Date\": \"2020-07-17T00:00:00\", \"Total\": 7}, {\"Event Date\": \"2020-07-18T00:00:00\", \"Total\": 7}, {\"Event Date\": \"2020-07-19T00:00:00\", \"Total\": 7}, {\"Event Date\": \"2020-07-20T00:00:00\", \"Total\": 12}, {\"Event Date\": \"2020-07-21T00:00:00\", \"Total\": 8}, {\"Event Date\": \"2020-07-22T00:00:00\", \"Total\": 9}, {\"Event Date\": \"2020-07-23T00:00:00\", \"Total\": 8}, {\"Event Date\": \"2020-07-24T00:00:00\", \"Total\": 13}, {\"Event Date\": \"2020-07-25T00:00:00\", \"Total\": 11}, {\"Event Date\": \"2020-07-26T00:00:00\", \"Total\": 5}, {\"Event Date\": \"2020-07-27T00:00:00\", \"Total\": 17}, {\"Event Date\": \"2020-07-28T00:00:00\", \"Total\": 6}, {\"Event Date\": \"2020-07-29T00:00:00\", \"Total\": 6}, {\"Event Date\": \"2020-07-30T00:00:00\", \"Total\": 10}, {\"Event Date\": \"2020-07-31T00:00:00\", \"Total\": 8}, {\"Event Date\": \"2020-08-01T00:00:00\", \"Total\": 11}, {\"Event Date\": \"2020-08-02T00:00:00\", \"Total\": 5}, {\"Event Date\": \"2020-08-03T00:00:00\", \"Total\": 9}, {\"Event Date\": \"2020-08-04T00:00:00\", \"Total\": 11}, {\"Event Date\": \"2020-08-05T00:00:00\", \"Total\": 14}, {\"Event Date\": \"2020-08-06T00:00:00\", \"Total\": 8}, {\"Event Date\": \"2020-08-07T00:00:00\", \"Total\": 11}, {\"Event Date\": \"2020-08-08T00:00:00\", \"Total\": 8}, {\"Event Date\": \"2020-08-09T00:00:00\", \"Total\": 5}, {\"Event Date\": \"2020-08-10T00:00:00\", \"Total\": 12}, {\"Event Date\": \"2020-08-11T00:00:00\", \"Total\": 14}, {\"Event Date\": \"2020-08-12T00:00:00\", \"Total\": 9}, {\"Event Date\": \"2020-08-13T00:00:00\", \"Total\": 12}, {\"Event Date\": \"2020-08-14T00:00:00\", \"Total\": 16}, {\"Event Date\": \"2020-08-15T00:00:00\", \"Total\": 4}, {\"Event Date\": \"2020-08-17T00:00:00\", \"Total\": 16}, {\"Event Date\": \"2020-08-18T00:00:00\", \"Total\": 16}, {\"Event Date\": \"2020-08-19T00:00:00\", \"Total\": 10}, {\"Event Date\": \"2020-08-20T00:00:00\", \"Total\": 11}, {\"Event Date\": \"2020-08-21T00:00:00\", \"Total\": 8}, {\"Event Date\": \"2020-08-22T00:00:00\", \"Total\": 3}, {\"Event Date\": \"2020-08-23T00:00:00\", \"Total\": 3}, {\"Event Date\": \"2020-08-24T00:00:00\", \"Total\": 6}, {\"Event Date\": \"2020-08-25T00:00:00\", \"Total\": 16}, {\"Event Date\": \"2020-08-26T00:00:00\", \"Total\": 9}, {\"Event Date\": \"2020-08-27T00:00:00\", \"Total\": 10}, {\"Event Date\": \"2020-08-28T00:00:00\", \"Total\": 11}, {\"Event Date\": \"2020-08-29T00:00:00\", \"Total\": 1}, {\"Event Date\": \"2020-08-30T00:00:00\", \"Total\": 7}, {\"Event Date\": \"2020-08-31T00:00:00\", \"Total\": 5}, {\"Event Date\": \"2020-09-01T00:00:00\", \"Total\": 7}, {\"Event Date\": \"2020-09-02T00:00:00\", \"Total\": 10}, {\"Event Date\": \"2020-09-03T00:00:00\", \"Total\": 11}, {\"Event Date\": \"2020-09-04T00:00:00\", \"Total\": 9}, {\"Event Date\": \"2020-09-05T00:00:00\", \"Total\": 5}, {\"Event Date\": \"2020-09-06T00:00:00\", \"Total\": 4}, {\"Event Date\": \"2020-09-07T00:00:00\", \"Total\": 3}, {\"Event Date\": \"2020-09-08T00:00:00\", \"Total\": 14}, {\"Event Date\": \"2020-09-09T00:00:00\", \"Total\": 9}, {\"Event Date\": \"2020-09-10T00:00:00\", \"Total\": 8}, {\"Event Date\": \"2020-09-11T00:00:00\", \"Total\": 8}, {\"Event Date\": \"2020-09-12T00:00:00\", \"Total\": 5}, {\"Event Date\": \"2020-09-13T00:00:00\", \"Total\": 4}, {\"Event Date\": \"2020-09-14T00:00:00\", \"Total\": 5}, {\"Event Date\": \"2020-09-15T00:00:00\", \"Total\": 6}, {\"Event Date\": \"2020-09-16T00:00:00\", \"Total\": 3}, {\"Event Date\": \"2020-09-17T00:00:00\", \"Total\": 5}, {\"Event Date\": \"2020-09-18T00:00:00\", \"Total\": 4}, {\"Event Date\": \"2020-09-19T00:00:00\", \"Total\": 1}, {\"Event Date\": \"2020-09-20T00:00:00\", \"Total\": 4}, {\"Event Date\": \"2020-09-21T00:00:00\", \"Total\": 11}, {\"Event Date\": \"2020-09-22T00:00:00\", \"Total\": 7}, {\"Event Date\": \"2020-09-23T00:00:00\", \"Total\": 5}, {\"Event Date\": \"2020-09-24T00:00:00\", \"Total\": 8}, {\"Event Date\": \"2020-09-25T00:00:00\", \"Total\": 5}, {\"Event Date\": \"2020-09-26T00:00:00\", \"Total\": 3}, {\"Event Date\": \"2020-09-28T00:00:00\", \"Total\": 8}, {\"Event Date\": \"2020-09-29T00:00:00\", \"Total\": 7}, {\"Event Date\": \"2020-09-30T00:00:00\", \"Total\": 7}, {\"Event Date\": \"2020-10-01T00:00:00\", \"Total\": 5}, {\"Event Date\": \"2020-10-02T00:00:00\", \"Total\": 4}, {\"Event Date\": \"2020-10-03T00:00:00\", \"Total\": 4}, {\"Event Date\": \"2020-10-04T00:00:00\", \"Total\": 6}, {\"Event Date\": \"2020-10-05T00:00:00\", \"Total\": 12}, {\"Event Date\": \"2020-10-06T00:00:00\", \"Total\": 5}, {\"Event Date\": \"2020-10-07T00:00:00\", \"Total\": 8}, {\"Event Date\": \"2020-10-08T00:00:00\", \"Total\": 9}, {\"Event Date\": \"2020-10-09T00:00:00\", \"Total\": 7}, {\"Event Date\": \"2020-10-10T00:00:00\", \"Total\": 2}, {\"Event Date\": \"2020-10-11T00:00:00\", \"Total\": 2}, {\"Event Date\": \"2020-10-12T00:00:00\", \"Total\": 7}, {\"Event Date\": \"2020-10-13T00:00:00\", \"Total\": 10}, {\"Event Date\": \"2020-10-14T00:00:00\", \"Total\": 1}, {\"Event Date\": \"2020-10-15T00:00:00\", \"Total\": 5}, {\"Event Date\": \"2020-10-16T00:00:00\", \"Total\": 4}, {\"Event Date\": \"2020-10-17T00:00:00\", \"Total\": 2}, {\"Event Date\": \"2020-10-19T00:00:00\", \"Total\": 2}, {\"Event Date\": \"2020-10-20T00:00:00\", \"Total\": 6}, {\"Event Date\": \"2020-10-21T00:00:00\", \"Total\": 8}, {\"Event Date\": \"2020-10-22T00:00:00\", \"Total\": 8}, {\"Event Date\": \"2020-10-23T00:00:00\", \"Total\": 7}, {\"Event Date\": \"2020-10-24T00:00:00\", \"Total\": 3}, {\"Event Date\": \"2020-10-25T00:00:00\", \"Total\": 2}, {\"Event Date\": \"2020-10-26T00:00:00\", \"Total\": 7}, {\"Event Date\": \"2020-10-27T00:00:00\", \"Total\": 10}, {\"Event Date\": \"2020-10-28T00:00:00\", \"Total\": 6}, {\"Event Date\": \"2020-10-29T00:00:00\", \"Total\": 4}, {\"Event Date\": \"2020-10-30T00:00:00\", \"Total\": 5}, {\"Event Date\": \"2020-10-31T00:00:00\", \"Total\": 5}, {\"Event Date\": \"2020-11-01T00:00:00\", \"Total\": 6}, {\"Event Date\": \"2020-11-02T00:00:00\", \"Total\": 13}, {\"Event Date\": \"2020-11-03T00:00:00\", \"Total\": 9}, {\"Event Date\": \"2020-11-04T00:00:00\", \"Total\": 6}, {\"Event Date\": \"2020-11-05T00:00:00\", \"Total\": 9}, {\"Event Date\": \"2020-11-07T00:00:00\", \"Total\": 9}, {\"Event Date\": \"2020-11-08T00:00:00\", \"Total\": 2}, {\"Event Date\": \"2020-11-09T00:00:00\", \"Total\": 8}, {\"Event Date\": \"2020-11-10T00:00:00\", \"Total\": 5}, {\"Event Date\": \"2020-11-11T00:00:00\", \"Total\": 10}, {\"Event Date\": \"2020-11-12T00:00:00\", \"Total\": 5}, {\"Event Date\": \"2020-11-13T00:00:00\", \"Total\": 13}, {\"Event Date\": \"2020-11-14T00:00:00\", \"Total\": 7}, {\"Event Date\": \"2020-11-15T00:00:00\", \"Total\": 9}, {\"Event Date\": \"2020-11-16T00:00:00\", \"Total\": 9}, {\"Event Date\": \"2020-11-17T00:00:00\", \"Total\": 11}, {\"Event Date\": \"2020-11-18T00:00:00\", \"Total\": 9}, {\"Event Date\": \"2020-11-19T00:00:00\", \"Total\": 11}, {\"Event Date\": \"2020-11-20T00:00:00\", \"Total\": 7}, {\"Event Date\": \"2020-11-21T00:00:00\", \"Total\": 8}, {\"Event Date\": \"2020-11-22T00:00:00\", \"Total\": 6}, {\"Event Date\": \"2020-11-23T00:00:00\", \"Total\": 8}, {\"Event Date\": \"2020-11-24T00:00:00\", \"Total\": 13}, {\"Event Date\": \"2020-11-25T00:00:00\", \"Total\": 12}, {\"Event Date\": \"2020-11-26T00:00:00\", \"Total\": 5}, {\"Event Date\": \"2020-11-27T00:00:00\", \"Total\": 5}, {\"Event Date\": \"2020-11-28T00:00:00\", \"Total\": 5}, {\"Event Date\": \"2020-11-29T00:00:00\", \"Total\": 4}, {\"Event Date\": \"2020-11-30T00:00:00\", \"Total\": 6}, {\"Event Date\": \"2020-12-01T00:00:00\", \"Total\": 14}, {\"Event Date\": \"2020-12-02T00:00:00\", \"Total\": 6}, {\"Event Date\": \"2020-12-03T00:00:00\", \"Total\": 11}, {\"Event Date\": \"2020-12-04T00:00:00\", \"Total\": 10}, {\"Event Date\": \"2020-12-05T00:00:00\", \"Total\": 9}, {\"Event Date\": \"2020-12-06T00:00:00\", \"Total\": 9}, {\"Event Date\": \"2020-12-07T00:00:00\", \"Total\": 12}, {\"Event Date\": \"2020-12-08T00:00:00\", \"Total\": 12}, {\"Event Date\": \"2020-12-09T00:00:00\", \"Total\": 14}, {\"Event Date\": \"2020-12-10T00:00:00\", \"Total\": 13}, {\"Event Date\": \"2020-12-11T00:00:00\", \"Total\": 12}, {\"Event Date\": \"2020-12-12T00:00:00\", \"Total\": 12}, {\"Event Date\": \"2020-12-13T00:00:00\", \"Total\": 8}, {\"Event Date\": \"2020-12-14T00:00:00\", \"Total\": 11}, {\"Event Date\": \"2020-12-15T00:00:00\", \"Total\": 16}, {\"Event Date\": \"2020-12-16T00:00:00\", \"Total\": 9}, {\"Event Date\": \"2020-12-17T00:00:00\", \"Total\": 10}, {\"Event Date\": \"2020-12-18T00:00:00\", \"Total\": 13}, {\"Event Date\": \"2020-12-19T00:00:00\", \"Total\": 3}, {\"Event Date\": \"2020-12-20T00:00:00\", \"Total\": 8}, {\"Event Date\": \"2020-12-21T00:00:00\", \"Total\": 9}, {\"Event Date\": \"2020-12-22T00:00:00\", \"Total\": 9}, {\"Event Date\": \"2020-12-23T00:00:00\", \"Total\": 9}, {\"Event Date\": \"2020-12-24T00:00:00\", \"Total\": 5}, {\"Event Date\": \"2020-12-25T00:00:00\", \"Total\": 1}, {\"Event Date\": \"2020-12-26T00:00:00\", \"Total\": 3}, {\"Event Date\": \"2020-12-27T00:00:00\", \"Total\": 4}, {\"Event Date\": \"2020-12-28T00:00:00\", \"Total\": 8}, {\"Event Date\": \"2020-12-29T00:00:00\", \"Total\": 9}, {\"Event Date\": \"2020-12-30T00:00:00\", \"Total\": 7}, {\"Event Date\": \"2020-12-31T00:00:00\", \"Total\": 7}, {\"Event Date\": \"2021-01-01T00:00:00\", \"Total\": 3}, {\"Event Date\": \"2021-01-02T00:00:00\", \"Total\": 1}, {\"Event Date\": \"2021-01-03T00:00:00\", \"Total\": 1}, {\"Event Date\": \"2021-01-04T00:00:00\", \"Total\": 3}, {\"Event Date\": \"2021-01-05T00:00:00\", \"Total\": 3}, {\"Event Date\": \"2021-01-06T00:00:00\", \"Total\": 3}, {\"Event Date\": \"2021-01-07T00:00:00\", \"Total\": 3}, {\"Event Date\": \"2021-01-08T00:00:00\", \"Total\": 3}, {\"Event Date\": \"2021-01-09T00:00:00\", \"Total\": 3}, {\"Event Date\": \"2021-01-10T00:00:00\", \"Total\": 4}, {\"Event Date\": \"2021-01-11T00:00:00\", \"Total\": 5}, {\"Event Date\": \"2021-01-12T00:00:00\", \"Total\": 5}, {\"Event Date\": \"2021-01-13T00:00:00\", \"Total\": 5}, {\"Event Date\": \"2021-01-15T00:00:00\", \"Total\": 2}, {\"Event Date\": \"2021-01-17T00:00:00\", \"Total\": 1}, {\"Event Date\": \"2021-01-18T00:00:00\", \"Total\": 1}, {\"Event Date\": \"2021-01-19T00:00:00\", \"Total\": 2}, {\"Event Date\": \"2021-01-20T00:00:00\", \"Total\": 2}, {\"Event Date\": \"2021-01-21T00:00:00\", \"Total\": 1}, {\"Event Date\": \"2021-02-20T00:00:00\", \"Total\": 1}]}}, {\"mode\": \"vega-lite\"});\n",
       "</script>"
      ],
      "text/plain": [
       "alt.Chart(...)"
      ]
     },
     "execution_count": 21,
     "metadata": {},
     "output_type": "execute_result"
    }
   ],
   "source": [
    "chart = alt.Chart(df_date1).mark_bar().encode(\n",
    "    x='Event Date',\n",
    "    y='Total'\n",
    ")\n",
    "\n",
    "chart"
   ]
  },
  {
   "cell_type": "code",
   "execution_count": null,
   "id": "a3acf8fd",
   "metadata": {},
   "outputs": [],
   "source": []
  }
 ],
 "metadata": {
  "kernelspec": {
   "display_name": "Python 3 (ipykernel)",
   "language": "python",
   "name": "python3"
  },
  "language_info": {
   "codemirror_mode": {
    "name": "ipython",
    "version": 3
   },
   "file_extension": ".py",
   "mimetype": "text/x-python",
   "name": "python",
   "nbconvert_exporter": "python",
   "pygments_lexer": "ipython3",
   "version": "3.7.0"
  }
 },
 "nbformat": 4,
 "nbformat_minor": 5
}
